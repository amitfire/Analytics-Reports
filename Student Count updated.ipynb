{
 "cells": [
  {
   "cell_type": "code",
   "execution_count": 609,
   "metadata": {},
   "outputs": [],
   "source": [
    "import pandas as pd\n",
    "import numpy as np\n",
    "import matplotlib.pyplot as plt\n",
    "import seaborn as sns "
   ]
  },
  {
   "cell_type": "code",
   "execution_count": 610,
   "metadata": {},
   "outputs": [],
   "source": [
    "import nltk"
   ]
  },
  {
   "cell_type": "code",
   "execution_count": 611,
   "metadata": {},
   "outputs": [],
   "source": [
    "df =pd.read_csv('Student+Alumni.csv') # Read the data\n",
    "df = df.dropna()"
   ]
  },
  {
   "cell_type": "code",
   "execution_count": 612,
   "metadata": {},
   "outputs": [
    {
     "data": {
      "text/html": [
       "<div>\n",
       "<style scoped>\n",
       "    .dataframe tbody tr th:only-of-type {\n",
       "        vertical-align: middle;\n",
       "    }\n",
       "\n",
       "    .dataframe tbody tr th {\n",
       "        vertical-align: top;\n",
       "    }\n",
       "\n",
       "    .dataframe thead th {\n",
       "        text-align: right;\n",
       "    }\n",
       "</style>\n",
       "<table border=\"1\" class=\"dataframe\">\n",
       "  <thead>\n",
       "    <tr style=\"text-align: right;\">\n",
       "      <th></th>\n",
       "      <th>count</th>\n",
       "      <th>maj</th>\n",
       "      <th>import_status</th>\n",
       "      <th>user_type</th>\n",
       "    </tr>\n",
       "  </thead>\n",
       "  <tbody>\n",
       "    <tr>\n",
       "      <th>0</th>\n",
       "      <td>1</td>\n",
       "      <td>Bachelors of Science in Computer Engineering</td>\n",
       "      <td>joined</td>\n",
       "      <td>alumni</td>\n",
       "    </tr>\n",
       "    <tr>\n",
       "      <th>1</th>\n",
       "      <td>1</td>\n",
       "      <td>Management Science</td>\n",
       "      <td>joined</td>\n",
       "      <td>student</td>\n",
       "    </tr>\n",
       "    <tr>\n",
       "      <th>2</th>\n",
       "      <td>1</td>\n",
       "      <td>Management Science</td>\n",
       "      <td>joined</td>\n",
       "      <td>alumni</td>\n",
       "    </tr>\n",
       "    <tr>\n",
       "      <th>3</th>\n",
       "      <td>72</td>\n",
       "      <td>Animal Husbandry</td>\n",
       "      <td>joined</td>\n",
       "      <td>alumni</td>\n",
       "    </tr>\n",
       "    <tr>\n",
       "      <th>4</th>\n",
       "      <td>12</td>\n",
       "      <td>Animal Husbandry</td>\n",
       "      <td>joined</td>\n",
       "      <td>student</td>\n",
       "    </tr>\n",
       "  </tbody>\n",
       "</table>\n",
       "</div>"
      ],
      "text/plain": [
       "   count                                           maj import_status user_type\n",
       "0      1  Bachelors of Science in Computer Engineering        joined    alumni\n",
       "1      1                            Management Science        joined   student\n",
       "2      1                            Management Science        joined    alumni\n",
       "3     72                              Animal Husbandry        joined    alumni\n",
       "4     12                              Animal Husbandry        joined   student"
      ]
     },
     "execution_count": 612,
     "metadata": {},
     "output_type": "execute_result"
    }
   ],
   "source": [
    "df.head()"
   ]
  },
  {
   "cell_type": "code",
   "execution_count": 613,
   "metadata": {},
   "outputs": [],
   "source": [
    "# Naive Function for grouping similarly named Majors\n",
    "def create_grouped_filter(x):\n",
    "    for i in x.split():\n",
    "        if i.lower() == 'chemistry':\n",
    "            return 'Chemistry'\n",
    "        elif i.lower() == 'mathematics'or i.lower() == 'mathematics,' or i.lower().startswith('math'):\n",
    "            return 'Mathematics'\n",
    "        elif i.lower() == 'business' or i.lower().startswith('bus') or i.lower().endswith('ness'):\n",
    "            return \"Business\"\n",
    "        elif i.strip().lower() == 'computer':\n",
    "            return 'Computer Science'\n",
    "        elif i.lower() == '17th':\n",
    "            return 'Historical(17 Century)'\n",
    "        elif i.lower() == 'engineering' or i.lower().endswith('eering'):\n",
    "            return 'Engineering'\n",
    "        elif i.lower() == 'biotechnology' or i.lower().startswith('biotechnology'):\n",
    "            return 'Biotechnology'\n",
    "        elif i.lower() == 'literature' or i.lower()=='english':\n",
    "            return 'Literature'\n",
    "        elif i.lower() == 'corporate':\n",
    "            return 'Corporate Major'\n",
    "        elif i.lower().startswith('pyschology'):\n",
    "            return 'Pyschology'\n",
    "        elif i.lower() == 'cyber' or i.lower() == 'security' or i.lower()=='cybersecurity':\n",
    "            return 'Cyber Security'\n",
    "        elif i.lower() == 'cosmetology'or i.lower().startswith('cosmetology'):\n",
    "            return 'Cosmetology'\n",
    "        elif i.lower() == 'counselling' or i.lower() == 'counseling'or  i.lower().startswith('counselling'):\n",
    "            return 'Major in counselling'\n",
    "        elif i.lower()=='accounting' or i.lower().startswith('acc'):\n",
    "            return 'Accounting'\n",
    "        elif i.lower()=='art' or i.lower().startswith('art'):\n",
    "            return 'Arts'\n",
    "        elif i.lower()=='chinese' or i.lower().startswith('chinese'):\n",
    "            return 'Chinese History'\n",
    "        elif i.lower()=='biology' or i.lower().startswith('biology'):\n",
    "            return 'Biology'\n",
    "        elif i.lower()=='biological' or i.lower().startswith('biological'):\n",
    "            return 'Biological sciences'\n",
    "        elif i.lower()=='behavior' or i.lower().startswith('behavior'):\n",
    "            return 'Behavioral sciences'\n",
    "        elif i.lower()=='cinema' or i.lower().startswith('cinema'):\n",
    "            return 'Behavioral sciences'\n",
    "        elif i.lower()=='communication' or i.lower().startswith('communication'):\n",
    "            return 'Communications'\n",
    "        elif i.lower()=='eco' or i.lower().startswith('econ') or i.endswith('mics'):\n",
    "            return 'Economics'\n",
    "        elif i.lower()=='healthcare' or i.lower().startswith('health'):\n",
    "            return 'HealthCare'\n",
    "        elif i.lower()=='education' or i.lower().startswith('edu'):\n",
    "            return 'Education'\n",
    "        elif i.lower()=='information' or i.lower().startswith('technology') or i.lower().startswith('inf'):\n",
    "            return 'Information Technology'\n",
    "\n",
    "        else :\n",
    "            return x\n",
    "        \n",
    "        \n",
    "    "
   ]
  },
  {
   "cell_type": "code",
   "execution_count": 614,
   "metadata": {},
   "outputs": [],
   "source": [
    "df['maj']  = df['maj'].apply(create_grouped_filter)"
   ]
  },
  {
   "cell_type": "code",
   "execution_count": 615,
   "metadata": {},
   "outputs": [
    {
     "data": {
      "text/html": [
       "<div>\n",
       "<style scoped>\n",
       "    .dataframe tbody tr th:only-of-type {\n",
       "        vertical-align: middle;\n",
       "    }\n",
       "\n",
       "    .dataframe tbody tr th {\n",
       "        vertical-align: top;\n",
       "    }\n",
       "\n",
       "    .dataframe thead th {\n",
       "        text-align: right;\n",
       "    }\n",
       "</style>\n",
       "<table border=\"1\" class=\"dataframe\">\n",
       "  <thead>\n",
       "    <tr style=\"text-align: right;\">\n",
       "      <th></th>\n",
       "      <th>count</th>\n",
       "      <th>maj</th>\n",
       "      <th>import_status</th>\n",
       "      <th>user_type</th>\n",
       "    </tr>\n",
       "  </thead>\n",
       "  <tbody>\n",
       "    <tr>\n",
       "      <th>9995</th>\n",
       "      <td>1</td>\n",
       "      <td>Business</td>\n",
       "      <td>joined</td>\n",
       "      <td>alumni</td>\n",
       "    </tr>\n",
       "    <tr>\n",
       "      <th>9996</th>\n",
       "      <td>1</td>\n",
       "      <td>CMIS/INFA</td>\n",
       "      <td>joined</td>\n",
       "      <td>alumni</td>\n",
       "    </tr>\n",
       "    <tr>\n",
       "      <th>9997</th>\n",
       "      <td>1</td>\n",
       "      <td>Business</td>\n",
       "      <td>joined</td>\n",
       "      <td>alumni</td>\n",
       "    </tr>\n",
       "    <tr>\n",
       "      <th>9998</th>\n",
       "      <td>1</td>\n",
       "      <td>Computer Science</td>\n",
       "      <td>joined</td>\n",
       "      <td>alumni</td>\n",
       "    </tr>\n",
       "    <tr>\n",
       "      <th>9999</th>\n",
       "      <td>1</td>\n",
       "      <td>Literature</td>\n",
       "      <td>joined</td>\n",
       "      <td>alumni</td>\n",
       "    </tr>\n",
       "  </tbody>\n",
       "</table>\n",
       "</div>"
      ],
      "text/plain": [
       "      count               maj import_status user_type\n",
       "9995      1          Business        joined    alumni\n",
       "9996      1         CMIS/INFA        joined    alumni\n",
       "9997      1          Business        joined    alumni\n",
       "9998      1  Computer Science        joined    alumni\n",
       "9999      1        Literature        joined    alumni"
      ]
     },
     "execution_count": 615,
     "metadata": {},
     "output_type": "execute_result"
    }
   ],
   "source": [
    "df.tail()"
   ]
  },
  {
   "cell_type": "code",
   "execution_count": 616,
   "metadata": {},
   "outputs": [],
   "source": [
    "# df.groupby(['maj']).agg({'import_status':'count'}).sort_values(by='import_status',ascending=False)"
   ]
  },
  {
   "cell_type": "code",
   "execution_count": 617,
   "metadata": {},
   "outputs": [
    {
     "data": {
      "text/html": [
       "<div>\n",
       "<style scoped>\n",
       "    .dataframe tbody tr th:only-of-type {\n",
       "        vertical-align: middle;\n",
       "    }\n",
       "\n",
       "    .dataframe tbody tr th {\n",
       "        vertical-align: top;\n",
       "    }\n",
       "\n",
       "    .dataframe thead th {\n",
       "        text-align: right;\n",
       "    }\n",
       "</style>\n",
       "<table border=\"1\" class=\"dataframe\">\n",
       "  <thead>\n",
       "    <tr style=\"text-align: right;\">\n",
       "      <th></th>\n",
       "      <th>count</th>\n",
       "      <th>maj</th>\n",
       "      <th>import_status</th>\n",
       "      <th>user_type</th>\n",
       "    </tr>\n",
       "  </thead>\n",
       "  <tbody>\n",
       "    <tr>\n",
       "      <th>2952</th>\n",
       "      <td>1</td>\n",
       "      <td>Computer Science</td>\n",
       "      <td>joined</td>\n",
       "      <td>alumni</td>\n",
       "    </tr>\n",
       "    <tr>\n",
       "      <th>3802</th>\n",
       "      <td>1</td>\n",
       "      <td>Law</td>\n",
       "      <td>joined</td>\n",
       "      <td>alumni</td>\n",
       "    </tr>\n",
       "    <tr>\n",
       "      <th>4230</th>\n",
       "      <td>1</td>\n",
       "      <td>Law</td>\n",
       "      <td>joined</td>\n",
       "      <td>alumni</td>\n",
       "    </tr>\n",
       "    <tr>\n",
       "      <th>8282</th>\n",
       "      <td>1</td>\n",
       "      <td>Cyber Security</td>\n",
       "      <td>joined</td>\n",
       "      <td>alumni</td>\n",
       "    </tr>\n",
       "    <tr>\n",
       "      <th>8488</th>\n",
       "      <td>1</td>\n",
       "      <td>Information Technology</td>\n",
       "      <td>joined</td>\n",
       "      <td>alumni</td>\n",
       "    </tr>\n",
       "  </tbody>\n",
       "</table>\n",
       "</div>"
      ],
      "text/plain": [
       "      count                     maj import_status user_type\n",
       "2952      1        Computer Science        joined    alumni\n",
       "3802      1                     Law        joined    alumni\n",
       "4230      1                     Law        joined    alumni\n",
       "8282      1          Cyber Security        joined    alumni\n",
       "8488      1  Information Technology        joined    alumni"
      ]
     },
     "execution_count": 617,
     "metadata": {},
     "output_type": "execute_result"
    }
   ],
   "source": [
    "df[df['maj'].isin(df['maj'].value_counts().index[0:10])].sample(5)"
   ]
  },
  {
   "cell_type": "code",
   "execution_count": 618,
   "metadata": {},
   "outputs": [],
   "source": [
    "def create_joined_students_column(i):\n",
    "    return df[(df['maj']==i)&(df['user_type']=='student')]['import_status'].value_counts().get('joined')        \n",
    "        \n",
    "def create_joined_imported_students_column(i):\n",
    "    return df[(df['maj']==i)&(df['user_type']=='student')].shape[0]\n",
    "def create_joined_alumni_column(i):\n",
    "    return df[(df['maj']==i)&(df['user_type']=='alumni')]['import_status'].value_counts().get('joined')\n",
    "def create_joined_imported_alumni_column(i):\n",
    "    return df[(df['maj']==i)&(df['user_type']=='alumni')].shape[0]"
   ]
  },
  {
   "cell_type": "code",
   "execution_count": 619,
   "metadata": {},
   "outputs": [],
   "source": [
    "df['Total joined students'] = df['maj'].apply(create_joined_students_column)\n",
    "df['Total joined+imported students'] =df['maj'].apply(create_joined_imported_students_column)\n",
    "df['Total joined alumni'] = df['maj'].apply(create_joined_alumni_column)\n",
    "df['Total joined+imported alumni'] = df['maj'].apply(create_joined_imported_alumni_column)\n"
   ]
  },
  {
   "cell_type": "code",
   "execution_count": 627,
   "metadata": {},
   "outputs": [
    {
     "data": {
      "text/plain": [
       "Index(['count', 'maj', 'import_status', 'user_type', 'Total joined students',\n",
       "       'Total joined+imported students', 'Total joined alumni',\n",
       "       'Total joined+imported alumni'],\n",
       "      dtype='object')"
      ]
     },
     "execution_count": 627,
     "metadata": {},
     "output_type": "execute_result"
    }
   ],
   "source": [
    "df.columns"
   ]
  },
  {
   "cell_type": "code",
   "execution_count": 632,
   "metadata": {},
   "outputs": [
    {
     "data": {
      "text/plain": [
       "<pandas.core.groupby.generic.DataFrameGroupBy object at 0x000001F01A2EF370>"
      ]
     },
     "execution_count": 632,
     "metadata": {},
     "output_type": "execute_result"
    }
   ],
   "source": [
    "df.groupby(['maj','count'])[['maj','Total joined students','count',\n",
    "       'Total joined+imported students', 'Total joined alumni',\n",
    "       'Total joined+imported alumni']]"
   ]
  },
  {
   "cell_type": "code",
   "execution_count": 635,
   "metadata": {},
   "outputs": [],
   "source": [
    "df_final.to_excel(r'C:\\Users\\amitb\\Alumni_Student_Report.xlsx', index = False)"
   ]
  },
  {
   "cell_type": "code",
   "execution_count": 634,
   "metadata": {},
   "outputs": [],
   "source": [
    "df_final = df.sort_values(by='count',ascending=False).fillna(1)"
   ]
  },
  {
   "cell_type": "code",
   "execution_count": 268,
   "metadata": {},
   "outputs": [
    {
     "data": {
      "text/plain": [
       "534"
      ]
     },
     "execution_count": 268,
     "metadata": {},
     "output_type": "execute_result"
    }
   ],
   "source": [
    "df[(df['maj']=='Business')&(df['user_type']=='alumni')]['import_status'].value_counts().get('joined')"
   ]
  },
  {
   "cell_type": "code",
   "execution_count": 269,
   "metadata": {},
   "outputs": [
    {
     "data": {
      "text/plain": [
       "41"
      ]
     },
     "execution_count": 269,
     "metadata": {},
     "output_type": "execute_result"
    }
   ],
   "source": [
    "df[(df['maj']=='Business')&(df['user_type']=='student')]['import_status'].value_counts().get('joined')"
   ]
  },
  {
   "cell_type": "code",
   "execution_count": 270,
   "metadata": {},
   "outputs": [
    {
     "data": {
      "text/plain": [
       "630"
      ]
     },
     "execution_count": 270,
     "metadata": {},
     "output_type": "execute_result"
    }
   ],
   "source": [
    "df[(df['maj']=='Business')&(df['user_type']=='alumni')].shape[0]"
   ]
  },
  {
   "cell_type": "code",
   "execution_count": 271,
   "metadata": {},
   "outputs": [
    {
     "data": {
      "text/plain": [
       "43"
      ]
     },
     "execution_count": 271,
     "metadata": {},
     "output_type": "execute_result"
    }
   ],
   "source": [
    "df[(df['maj']=='Business')&(df['user_type']=='student')].shape[0]"
   ]
  },
  {
   "cell_type": "code",
   "execution_count": 249,
   "metadata": {},
   "outputs": [
    {
     "data": {
      "text/plain": [
       "True"
      ]
     },
     "execution_count": 249,
     "metadata": {},
     "output_type": "execute_result"
    }
   ],
   "source": [
    "'Pyschology'.lower().startswith('pyschology')"
   ]
  },
  {
   "cell_type": "code",
   "execution_count": 250,
   "metadata": {},
   "outputs": [],
   "source": [
    "df['maj'] = df['maj'].apply(create_grouped_filter)"
   ]
  },
  {
   "cell_type": "code",
   "execution_count": 623,
   "metadata": {},
   "outputs": [
    {
     "data": {
      "text/plain": [
       "Business                  691\n",
       "Computer Science          428\n",
       "Economics                 426\n",
       "Cyber Security            267\n",
       "Psychology                265\n",
       "Literature                230\n",
       "Information Technology    224\n",
       "Electrical Engineering    216\n",
       "Political Science         215\n",
       "Law                       201\n",
       "Name: maj, dtype: int64"
      ]
     },
     "execution_count": 623,
     "metadata": {},
     "output_type": "execute_result"
    }
   ],
   "source": [
    "# Getting the top 10 based on our filters\n",
    "df[df['maj'].isin(df['maj'].value_counts().index[0:10])]['maj'].value_counts()"
   ]
  },
  {
   "cell_type": "code",
   "execution_count": null,
   "metadata": {},
   "outputs": [],
   "source": []
  },
  {
   "cell_type": "markdown",
   "metadata": {},
   "source": [
    "### Plotting the top 10 based on the filters"
   ]
  },
  {
   "cell_type": "code",
   "execution_count": 624,
   "metadata": {},
   "outputs": [
    {
     "data": {
      "image/png": "[encoded data removed]",
      "text/plain": [
       "<Figure size 1080x720 with 1 Axes>"
      ]
     },
     "metadata": {},
     "output_type": "display_data"
    }
   ],
   "source": [
    "fig, ax = plt.subplots(figsize=(15,10))\n",
    "\n",
    "labels = df[df['maj'].isin(df['maj'].value_counts().index[0:9])]['maj'].value_counts().index\n",
    "percentages = df[df['maj'].isin(df['maj'].value_counts().index[0:9])]['maj'].value_counts().values\n",
    "ax.pie(percentages, labels=labels,  \n",
    "        autopct='%1.0f%%', \n",
    "       shadow=False, startangle=0,   \n",
    "       pctdistance=1.2,labeldistance=1.5)\n",
    "ax.axis('equal')\n",
    "plt.show()"
   ]
  },
  {
   "cell_type": "code",
   "execution_count": null,
   "metadata": {},
   "outputs": [],
   "source": []
  }
 ],
 "metadata": {
  "kernelspec": {
   "display_name": "Python 3",
   "language": "python",
   "name": "python3"
  },
  "language_info": {
   "codemirror_mode": {
    "name": "ipython",
    "version": 3
   },
   "file_extension": ".py",
   "mimetype": "text/x-python",
   "name": "python",
   "nbconvert_exporter": "python",
   "pygments_lexer": "ipython3",
   "version": "3.8.3"
  }
 },
 "nbformat": 4,
 "nbformat_minor": 4
}
